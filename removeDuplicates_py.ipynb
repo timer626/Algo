{
  "nbformat": 4,
  "nbformat_minor": 0,
  "metadata": {
    "colab": {
      "provenance": [],
      "authorship_tag": "ABX9TyPa+rHexHDvraorOUlh9+iO"
    },
    "kernelspec": {
      "name": "python3",
      "display_name": "Python 3"
    },
    "language_info": {
      "name": "python"
    }
  },
  "cells": [
    {
      "cell_type": "code",
      "execution_count": 19,
      "metadata": {
        "id": "3Ro5ahC0CGuw"
      },
      "outputs": [],
      "source": [
        "class Solution:\n",
        "    def removeDuplicates(self, nums: list[int]) -> int:\n",
        "      #2 указателя. первый будет находиться на месте, куда ставить новый уникальный элемент. второй будет ходить по списку и искать уникальные элементы\n",
        "        j=0\n",
        "        for i in range(1,len(nums),1):\n",
        "            if nums[j]!=nums[i]:\n",
        "                j+=1\n",
        "                nums[j]=nums[i]\n",
        "        return j+1\n",
        "\n"
      ]
    },
    {
      "cell_type": "code",
      "source": [],
      "metadata": {
        "id": "ZV0UaZF2Y7gE"
      },
      "execution_count": 18,
      "outputs": []
    }
  ]
}