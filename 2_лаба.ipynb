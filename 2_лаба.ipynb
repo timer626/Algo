{
  "nbformat": 4,
  "nbformat_minor": 0,
  "metadata": {
    "colab": {
      "provenance": [],
      "authorship_tag": "ABX9TyMVbgnFkvPsXHSlsKGn8XpL",
      "include_colab_link": true
    },
    "kernelspec": {
      "name": "python3",
      "display_name": "Python 3"
    },
    "language_info": {
      "name": "python"
    }
  },
  "cells": [
    {
      "cell_type": "markdown",
      "metadata": {
        "id": "view-in-github",
        "colab_type": "text"
      },
      "source": [
        "<a href=\"https://colab.research.google.com/github/timer626/Algo/blob/main/2_%D0%BB%D0%B0%D0%B1%D0%B0.ipynb\" target=\"_parent\"><img src=\"https://colab.research.google.com/assets/colab-badge.svg\" alt=\"Open In Colab\"/></a>"
      ]
    },
    {
      "cell_type": "code",
      "execution_count": 23,
      "metadata": {
        "colab": {
          "base_uri": "https://localhost:8080/"
        },
        "id": "hXXoqj7x9iI_",
        "outputId": "949a3358-b091-44af-a766-03374d58a952"
      },
      "outputs": [
        {
          "output_type": "stream",
          "name": "stdout",
          "text": [
            "Равномерное распределение:  [[ 0.46618889  1.8107608   1.31948505 -0.00334978  0.99490645]\n",
            " [-0.13910778  1.29291126 -0.615679    0.37992026 -0.17663864]]\n",
            "Нормальное распределение:  [[-1.63027182  0.22066842  2.87990598  0.70653259 -1.89410252]\n",
            " [ 2.34688716  0.06079854 -1.49922443 -0.18792774 -0.89011375]]\n"
          ]
        }
      ],
      "source": [
        "import numpy as np\n",
        "from numpy.random import uniform,normal\n",
        "\n",
        "class task1():\n",
        "  def uniform_dstrb(self,low,high,k,n):\n",
        "    \"\"\" Функция равномерного распределения на отрезке задает k реализаций выборки и n количество элементов этой выборки\"\"\"\n",
        "    all_realises=np.array([])\n",
        "    all_realises=uniform(low,high,(k,n))\n",
        "    return all_realises\n",
        "  def normal_dstrb(self,centre,scale,k,n):\n",
        "    \"\"\" Функция нормального распределения с параметрами centre(мат. ожидание) scale(средне квадратичное отклонение) задает k реализаций выборки и n количество элементов этой выборки\"\"\"\n",
        "    all_realises=np.array([])\n",
        "    all_realises=normal(centre,scale,(k,n))\n",
        "    return all_realises\n",
        "\n",
        "exampl1=task1()\n",
        "unif=exampl1.uniform_dstrb(-1,2,2,5)\n",
        "norm=exampl1.normal_dstrb(1,2,2,5)\n",
        "\n",
        "print('Равномерное распределение: ',unif)\n",
        "print('Нормальное распределение: ',norm)\n",
        "\n"
      ]
    }
  ]
}