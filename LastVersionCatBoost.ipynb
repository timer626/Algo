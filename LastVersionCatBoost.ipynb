{
  "nbformat": 4,
  "nbformat_minor": 0,
  "metadata": {
    "colab": {
      "provenance": [],
      "authorship_tag": "ABX9TyMzMDptlYP2QFVrOmedk+y5",
      "include_colab_link": true
    },
    "kernelspec": {
      "name": "python3",
      "display_name": "Python 3"
    },
    "language_info": {
      "name": "python"
    }
  },
  "cells": [
    {
      "cell_type": "markdown",
      "metadata": {
        "id": "view-in-github",
        "colab_type": "text"
      },
      "source": [
        "<a href=\"https://colab.research.google.com/github/timer626/Algo/blob/main/LastVersionCatBoost.ipynb\" target=\"_parent\"><img src=\"https://colab.research.google.com/assets/colab-badge.svg\" alt=\"Open In Colab\"/></a>"
      ]
    },
    {
      "cell_type": "code",
      "execution_count": 255,
      "metadata": {
        "colab": {
          "base_uri": "https://localhost:8080/"
        },
        "id": "s4ruiV1lbMsc",
        "outputId": "f4440704-12ca-4fba-f026-0e37cbf68448"
      },
      "outputs": [
        {
          "output_type": "execute_result",
          "data": {
            "text/plain": [
              "['Requirement already satisfied: optuna in /usr/local/lib/python3.10/dist-packages (4.0.0)',\n",
              " 'Requirement already satisfied: alembic>=1.5.0 in /usr/local/lib/python3.10/dist-packages (from optuna) (1.13.2)',\n",
              " 'Requirement already satisfied: colorlog in /usr/local/lib/python3.10/dist-packages (from optuna) (6.8.2)',\n",
              " 'Requirement already satisfied: numpy in /usr/local/lib/python3.10/dist-packages (from optuna) (1.26.4)',\n",
              " 'Requirement already satisfied: packaging>=20.0 in /usr/local/lib/python3.10/dist-packages (from optuna) (24.1)',\n",
              " 'Requirement already satisfied: sqlalchemy>=1.3.0 in /usr/local/lib/python3.10/dist-packages (from optuna) (2.0.35)',\n",
              " 'Requirement already satisfied: tqdm in /usr/local/lib/python3.10/dist-packages (from optuna) (4.66.5)',\n",
              " 'Requirement already satisfied: PyYAML in /usr/local/lib/python3.10/dist-packages (from optuna) (6.0.2)',\n",
              " 'Requirement already satisfied: Mako in /usr/local/lib/python3.10/dist-packages (from alembic>=1.5.0->optuna) (1.3.5)',\n",
              " 'Requirement already satisfied: typing-extensions>=4 in /usr/local/lib/python3.10/dist-packages (from alembic>=1.5.0->optuna) (4.12.2)',\n",
              " 'Requirement already satisfied: greenlet!=0.4.17 in /usr/local/lib/python3.10/dist-packages (from sqlalchemy>=1.3.0->optuna) (3.1.0)',\n",
              " 'Requirement already satisfied: MarkupSafe>=0.9.2 in /usr/local/lib/python3.10/dist-packages (from Mako->alembic>=1.5.0->optuna) (2.1.5)']"
            ]
          },
          "metadata": {},
          "execution_count": 255
        }
      ],
      "source": [
        "!!pip install catboost\n",
        "!!pip install optuna"
      ]
    },
    {
      "cell_type": "code",
      "source": [
        "import pandas as pd\n",
        "import numpy as np\n",
        "from catboost import CatBoostClassifier, Pool\n",
        "from sklearn.model_selection import train_test_split\n",
        "from sklearn.metrics import accuracy_score, roc_auc_score\n",
        "from sklearn.metrics import roc_curve, auc\n",
        "import optuna\n",
        "from sklearn.model_selection import cross_val_score\n",
        "\n"
      ],
      "metadata": {
        "id": "qAckKtIMbi_Y"
      },
      "execution_count": 256,
      "outputs": []
    },
    {
      "cell_type": "code",
      "source": [
        "X_train=pd.read_excel(\"train.xlsx\")\n",
        "X_test=pd.read_excel(\"test.xlsx\")\n"
      ],
      "metadata": {
        "id": "DLG3o4kXb2Ee"
      },
      "execution_count": 257,
      "outputs": []
    },
    {
      "cell_type": "code",
      "source": [
        "X_train.sample(5)"
      ],
      "metadata": {
        "colab": {
          "base_uri": "https://localhost:8080/",
          "height": 556
        },
        "id": "8Xtdzi7ucBTu",
        "outputId": "86adf9f7-55cf-4cc5-c7e1-1175360df69a"
      },
      "execution_count": 258,
      "outputs": [
        {
          "output_type": "execute_result",
          "data": {
            "text/plain": [
              "       Unnamed: 0                  № брони  Номеров  Стоимость  \\\n",
              "5304         5304  20220306-7492-126409374        1    20800.0   \n",
              "17296       17296  20220715-7491-149448175        1    13700.0   \n",
              "17592       17592  20220104-6634-119931460        1    42800.0   \n",
              "718           718  20231027-7491-232302754        1    23100.0   \n",
              "22001       22001  20230715-7491-204294612        2    62400.0   \n",
              "\n",
              "       Внесена предоплата                           Способ оплаты  \\\n",
              "5304                10400  Банк. карта: Банк Россия (банк. карта)   \n",
              "17296               13700  Банк. карта: Банк Россия (банк. карта)   \n",
              "17592                   0              Гарантия банковской картой   \n",
              "718                 23100  Банк. карта: Банк Россия (банк. карта)   \n",
              "22001               31200  Банк. карта: Банк Россия (банк. карта)   \n",
              "\n",
              "        Дата бронирования         Дата отмены               Заезд  Ночей  \\\n",
              "5304  2022-02-26 22:28:20 2022-03-04 16:56:54 2022-03-06 15:00:00      2   \n",
              "17296 2022-07-13 20:08:16                 NaT 2022-07-15 15:00:00      1   \n",
              "17592 2022-01-03 21:42:53                 NaT 2022-01-04 16:00:00      2   \n",
              "718   2023-10-23 19:18:51                 NaT 2023-10-27 15:00:00      2   \n",
              "22001 2023-06-11 17:41:04 2023-06-11 20:53:56 2023-07-15 15:00:00      2   \n",
              "\n",
              "                    Выезд                   Источник Статус брони  \\\n",
              "5304  2022-03-08 12:00:00           Официальный сайт       Отмена   \n",
              "17296 2022-07-16 12:00:00           Официальный сайт     Активный   \n",
              "17592 2022-01-06 12:00:00  booking.com (Booking.com)     Активный   \n",
              "718   2023-10-29 12:00:00           Официальный сайт     Активный   \n",
              "22001 2023-07-17 12:00:00           Официальный сайт       Отмена   \n",
              "\n",
              "       Категория номера  Гостей  Гостиница  \n",
              "5304   Номер «Стандарт»       2          2  \n",
              "17296  Номер «Стандарт»       2          3  \n",
              "17592  Номер «Стандарт»       2          1  \n",
              "718    Номер «Стандарт»       2          3  \n",
              "22001  Номер «Стандарт»       4          3  "
            ],
            "text/html": [
              "\n",
              "  <div id=\"df-3dd501d0-f7b1-4b00-8846-d9f7f32fa52c\" class=\"colab-df-container\">\n",
              "    <div>\n",
              "<style scoped>\n",
              "    .dataframe tbody tr th:only-of-type {\n",
              "        vertical-align: middle;\n",
              "    }\n",
              "\n",
              "    .dataframe tbody tr th {\n",
              "        vertical-align: top;\n",
              "    }\n",
              "\n",
              "    .dataframe thead th {\n",
              "        text-align: right;\n",
              "    }\n",
              "</style>\n",
              "<table border=\"1\" class=\"dataframe\">\n",
              "  <thead>\n",
              "    <tr style=\"text-align: right;\">\n",
              "      <th></th>\n",
              "      <th>Unnamed: 0</th>\n",
              "      <th>№ брони</th>\n",
              "      <th>Номеров</th>\n",
              "      <th>Стоимость</th>\n",
              "      <th>Внесена предоплата</th>\n",
              "      <th>Способ оплаты</th>\n",
              "      <th>Дата бронирования</th>\n",
              "      <th>Дата отмены</th>\n",
              "      <th>Заезд</th>\n",
              "      <th>Ночей</th>\n",
              "      <th>Выезд</th>\n",
              "      <th>Источник</th>\n",
              "      <th>Статус брони</th>\n",
              "      <th>Категория номера</th>\n",
              "      <th>Гостей</th>\n",
              "      <th>Гостиница</th>\n",
              "    </tr>\n",
              "  </thead>\n",
              "  <tbody>\n",
              "    <tr>\n",
              "      <th>5304</th>\n",
              "      <td>5304</td>\n",
              "      <td>20220306-7492-126409374</td>\n",
              "      <td>1</td>\n",
              "      <td>20800.0</td>\n",
              "      <td>10400</td>\n",
              "      <td>Банк. карта: Банк Россия (банк. карта)</td>\n",
              "      <td>2022-02-26 22:28:20</td>\n",
              "      <td>2022-03-04 16:56:54</td>\n",
              "      <td>2022-03-06 15:00:00</td>\n",
              "      <td>2</td>\n",
              "      <td>2022-03-08 12:00:00</td>\n",
              "      <td>Официальный сайт</td>\n",
              "      <td>Отмена</td>\n",
              "      <td>Номер «Стандарт»</td>\n",
              "      <td>2</td>\n",
              "      <td>2</td>\n",
              "    </tr>\n",
              "    <tr>\n",
              "      <th>17296</th>\n",
              "      <td>17296</td>\n",
              "      <td>20220715-7491-149448175</td>\n",
              "      <td>1</td>\n",
              "      <td>13700.0</td>\n",
              "      <td>13700</td>\n",
              "      <td>Банк. карта: Банк Россия (банк. карта)</td>\n",
              "      <td>2022-07-13 20:08:16</td>\n",
              "      <td>NaT</td>\n",
              "      <td>2022-07-15 15:00:00</td>\n",
              "      <td>1</td>\n",
              "      <td>2022-07-16 12:00:00</td>\n",
              "      <td>Официальный сайт</td>\n",
              "      <td>Активный</td>\n",
              "      <td>Номер «Стандарт»</td>\n",
              "      <td>2</td>\n",
              "      <td>3</td>\n",
              "    </tr>\n",
              "    <tr>\n",
              "      <th>17592</th>\n",
              "      <td>17592</td>\n",
              "      <td>20220104-6634-119931460</td>\n",
              "      <td>1</td>\n",
              "      <td>42800.0</td>\n",
              "      <td>0</td>\n",
              "      <td>Гарантия банковской картой</td>\n",
              "      <td>2022-01-03 21:42:53</td>\n",
              "      <td>NaT</td>\n",
              "      <td>2022-01-04 16:00:00</td>\n",
              "      <td>2</td>\n",
              "      <td>2022-01-06 12:00:00</td>\n",
              "      <td>booking.com (Booking.com)</td>\n",
              "      <td>Активный</td>\n",
              "      <td>Номер «Стандарт»</td>\n",
              "      <td>2</td>\n",
              "      <td>1</td>\n",
              "    </tr>\n",
              "    <tr>\n",
              "      <th>718</th>\n",
              "      <td>718</td>\n",
              "      <td>20231027-7491-232302754</td>\n",
              "      <td>1</td>\n",
              "      <td>23100.0</td>\n",
              "      <td>23100</td>\n",
              "      <td>Банк. карта: Банк Россия (банк. карта)</td>\n",
              "      <td>2023-10-23 19:18:51</td>\n",
              "      <td>NaT</td>\n",
              "      <td>2023-10-27 15:00:00</td>\n",
              "      <td>2</td>\n",
              "      <td>2023-10-29 12:00:00</td>\n",
              "      <td>Официальный сайт</td>\n",
              "      <td>Активный</td>\n",
              "      <td>Номер «Стандарт»</td>\n",
              "      <td>2</td>\n",
              "      <td>3</td>\n",
              "    </tr>\n",
              "    <tr>\n",
              "      <th>22001</th>\n",
              "      <td>22001</td>\n",
              "      <td>20230715-7491-204294612</td>\n",
              "      <td>2</td>\n",
              "      <td>62400.0</td>\n",
              "      <td>31200</td>\n",
              "      <td>Банк. карта: Банк Россия (банк. карта)</td>\n",
              "      <td>2023-06-11 17:41:04</td>\n",
              "      <td>2023-06-11 20:53:56</td>\n",
              "      <td>2023-07-15 15:00:00</td>\n",
              "      <td>2</td>\n",
              "      <td>2023-07-17 12:00:00</td>\n",
              "      <td>Официальный сайт</td>\n",
              "      <td>Отмена</td>\n",
              "      <td>Номер «Стандарт»</td>\n",
              "      <td>4</td>\n",
              "      <td>3</td>\n",
              "    </tr>\n",
              "  </tbody>\n",
              "</table>\n",
              "</div>\n",
              "    <div class=\"colab-df-buttons\">\n",
              "\n",
              "  <div class=\"colab-df-container\">\n",
              "    <button class=\"colab-df-convert\" onclick=\"convertToInteractive('df-3dd501d0-f7b1-4b00-8846-d9f7f32fa52c')\"\n",
              "            title=\"Convert this dataframe to an interactive table.\"\n",
              "            style=\"display:none;\">\n",
              "\n",
              "  <svg xmlns=\"http://www.w3.org/2000/svg\" height=\"24px\" viewBox=\"0 -960 960 960\">\n",
              "    <path d=\"M120-120v-720h720v720H120Zm60-500h600v-160H180v160Zm220 220h160v-160H400v160Zm0 220h160v-160H400v160ZM180-400h160v-160H180v160Zm440 0h160v-160H620v160ZM180-180h160v-160H180v160Zm440 0h160v-160H620v160Z\"/>\n",
              "  </svg>\n",
              "    </button>\n",
              "\n",
              "  <style>\n",
              "    .colab-df-container {\n",
              "      display:flex;\n",
              "      gap: 12px;\n",
              "    }\n",
              "\n",
              "    .colab-df-convert {\n",
              "      background-color: #E8F0FE;\n",
              "      border: none;\n",
              "      border-radius: 50%;\n",
              "      cursor: pointer;\n",
              "      display: none;\n",
              "      fill: #1967D2;\n",
              "      height: 32px;\n",
              "      padding: 0 0 0 0;\n",
              "      width: 32px;\n",
              "    }\n",
              "\n",
              "    .colab-df-convert:hover {\n",
              "      background-color: #E2EBFA;\n",
              "      box-shadow: 0px 1px 2px rgba(60, 64, 67, 0.3), 0px 1px 3px 1px rgba(60, 64, 67, 0.15);\n",
              "      fill: #174EA6;\n",
              "    }\n",
              "\n",
              "    .colab-df-buttons div {\n",
              "      margin-bottom: 4px;\n",
              "    }\n",
              "\n",
              "    [theme=dark] .colab-df-convert {\n",
              "      background-color: #3B4455;\n",
              "      fill: #D2E3FC;\n",
              "    }\n",
              "\n",
              "    [theme=dark] .colab-df-convert:hover {\n",
              "      background-color: #434B5C;\n",
              "      box-shadow: 0px 1px 3px 1px rgba(0, 0, 0, 0.15);\n",
              "      filter: drop-shadow(0px 1px 2px rgba(0, 0, 0, 0.3));\n",
              "      fill: #FFFFFF;\n",
              "    }\n",
              "  </style>\n",
              "\n",
              "    <script>\n",
              "      const buttonEl =\n",
              "        document.querySelector('#df-3dd501d0-f7b1-4b00-8846-d9f7f32fa52c button.colab-df-convert');\n",
              "      buttonEl.style.display =\n",
              "        google.colab.kernel.accessAllowed ? 'block' : 'none';\n",
              "\n",
              "      async function convertToInteractive(key) {\n",
              "        const element = document.querySelector('#df-3dd501d0-f7b1-4b00-8846-d9f7f32fa52c');\n",
              "        const dataTable =\n",
              "          await google.colab.kernel.invokeFunction('convertToInteractive',\n",
              "                                                    [key], {});\n",
              "        if (!dataTable) return;\n",
              "\n",
              "        const docLinkHtml = 'Like what you see? Visit the ' +\n",
              "          '<a target=\"_blank\" href=https://colab.research.google.com/notebooks/data_table.ipynb>data table notebook</a>'\n",
              "          + ' to learn more about interactive tables.';\n",
              "        element.innerHTML = '';\n",
              "        dataTable['output_type'] = 'display_data';\n",
              "        await google.colab.output.renderOutput(dataTable, element);\n",
              "        const docLink = document.createElement('div');\n",
              "        docLink.innerHTML = docLinkHtml;\n",
              "        element.appendChild(docLink);\n",
              "      }\n",
              "    </script>\n",
              "  </div>\n",
              "\n",
              "\n",
              "<div id=\"df-0b91f52e-b020-4c39-9eca-921aec75cd4a\">\n",
              "  <button class=\"colab-df-quickchart\" onclick=\"quickchart('df-0b91f52e-b020-4c39-9eca-921aec75cd4a')\"\n",
              "            title=\"Suggest charts\"\n",
              "            style=\"display:none;\">\n",
              "\n",
              "<svg xmlns=\"http://www.w3.org/2000/svg\" height=\"24px\"viewBox=\"0 0 24 24\"\n",
              "     width=\"24px\">\n",
              "    <g>\n",
              "        <path d=\"M19 3H5c-1.1 0-2 .9-2 2v14c0 1.1.9 2 2 2h14c1.1 0 2-.9 2-2V5c0-1.1-.9-2-2-2zM9 17H7v-7h2v7zm4 0h-2V7h2v10zm4 0h-2v-4h2v4z\"/>\n",
              "    </g>\n",
              "</svg>\n",
              "  </button>\n",
              "\n",
              "<style>\n",
              "  .colab-df-quickchart {\n",
              "      --bg-color: #E8F0FE;\n",
              "      --fill-color: #1967D2;\n",
              "      --hover-bg-color: #E2EBFA;\n",
              "      --hover-fill-color: #174EA6;\n",
              "      --disabled-fill-color: #AAA;\n",
              "      --disabled-bg-color: #DDD;\n",
              "  }\n",
              "\n",
              "  [theme=dark] .colab-df-quickchart {\n",
              "      --bg-color: #3B4455;\n",
              "      --fill-color: #D2E3FC;\n",
              "      --hover-bg-color: #434B5C;\n",
              "      --hover-fill-color: #FFFFFF;\n",
              "      --disabled-bg-color: #3B4455;\n",
              "      --disabled-fill-color: #666;\n",
              "  }\n",
              "\n",
              "  .colab-df-quickchart {\n",
              "    background-color: var(--bg-color);\n",
              "    border: none;\n",
              "    border-radius: 50%;\n",
              "    cursor: pointer;\n",
              "    display: none;\n",
              "    fill: var(--fill-color);\n",
              "    height: 32px;\n",
              "    padding: 0;\n",
              "    width: 32px;\n",
              "  }\n",
              "\n",
              "  .colab-df-quickchart:hover {\n",
              "    background-color: var(--hover-bg-color);\n",
              "    box-shadow: 0 1px 2px rgba(60, 64, 67, 0.3), 0 1px 3px 1px rgba(60, 64, 67, 0.15);\n",
              "    fill: var(--button-hover-fill-color);\n",
              "  }\n",
              "\n",
              "  .colab-df-quickchart-complete:disabled,\n",
              "  .colab-df-quickchart-complete:disabled:hover {\n",
              "    background-color: var(--disabled-bg-color);\n",
              "    fill: var(--disabled-fill-color);\n",
              "    box-shadow: none;\n",
              "  }\n",
              "\n",
              "  .colab-df-spinner {\n",
              "    border: 2px solid var(--fill-color);\n",
              "    border-color: transparent;\n",
              "    border-bottom-color: var(--fill-color);\n",
              "    animation:\n",
              "      spin 1s steps(1) infinite;\n",
              "  }\n",
              "\n",
              "  @keyframes spin {\n",
              "    0% {\n",
              "      border-color: transparent;\n",
              "      border-bottom-color: var(--fill-color);\n",
              "      border-left-color: var(--fill-color);\n",
              "    }\n",
              "    20% {\n",
              "      border-color: transparent;\n",
              "      border-left-color: var(--fill-color);\n",
              "      border-top-color: var(--fill-color);\n",
              "    }\n",
              "    30% {\n",
              "      border-color: transparent;\n",
              "      border-left-color: var(--fill-color);\n",
              "      border-top-color: var(--fill-color);\n",
              "      border-right-color: var(--fill-color);\n",
              "    }\n",
              "    40% {\n",
              "      border-color: transparent;\n",
              "      border-right-color: var(--fill-color);\n",
              "      border-top-color: var(--fill-color);\n",
              "    }\n",
              "    60% {\n",
              "      border-color: transparent;\n",
              "      border-right-color: var(--fill-color);\n",
              "    }\n",
              "    80% {\n",
              "      border-color: transparent;\n",
              "      border-right-color: var(--fill-color);\n",
              "      border-bottom-color: var(--fill-color);\n",
              "    }\n",
              "    90% {\n",
              "      border-color: transparent;\n",
              "      border-bottom-color: var(--fill-color);\n",
              "    }\n",
              "  }\n",
              "</style>\n",
              "\n",
              "  <script>\n",
              "    async function quickchart(key) {\n",
              "      const quickchartButtonEl =\n",
              "        document.querySelector('#' + key + ' button');\n",
              "      quickchartButtonEl.disabled = true;  // To prevent multiple clicks.\n",
              "      quickchartButtonEl.classList.add('colab-df-spinner');\n",
              "      try {\n",
              "        const charts = await google.colab.kernel.invokeFunction(\n",
              "            'suggestCharts', [key], {});\n",
              "      } catch (error) {\n",
              "        console.error('Error during call to suggestCharts:', error);\n",
              "      }\n",
              "      quickchartButtonEl.classList.remove('colab-df-spinner');\n",
              "      quickchartButtonEl.classList.add('colab-df-quickchart-complete');\n",
              "    }\n",
              "    (() => {\n",
              "      let quickchartButtonEl =\n",
              "        document.querySelector('#df-0b91f52e-b020-4c39-9eca-921aec75cd4a button');\n",
              "      quickchartButtonEl.style.display =\n",
              "        google.colab.kernel.accessAllowed ? 'block' : 'none';\n",
              "    })();\n",
              "  </script>\n",
              "</div>\n",
              "    </div>\n",
              "  </div>\n"
            ],
            "application/vnd.google.colaboratory.intrinsic+json": {
              "type": "dataframe",
              "summary": "{\n  \"name\": \"X_train\",\n  \"rows\": 5,\n  \"fields\": [\n    {\n      \"column\": \"Unnamed: 0\",\n      \"properties\": {\n        \"dtype\": \"number\",\n        \"std\": 9079,\n        \"min\": 718,\n        \"max\": 22001,\n        \"num_unique_values\": 5,\n        \"samples\": [\n          17296,\n          22001,\n          17592\n        ],\n        \"semantic_type\": \"\",\n        \"description\": \"\"\n      }\n    },\n    {\n      \"column\": \"\\u2116 \\u0431\\u0440\\u043e\\u043d\\u0438\",\n      \"properties\": {\n        \"dtype\": \"string\",\n        \"num_unique_values\": 5,\n        \"samples\": [\n          \"20220715-7491-149448175\",\n          \"20230715-7491-204294612\",\n          \"20220104-6634-119931460\"\n        ],\n        \"semantic_type\": \"\",\n        \"description\": \"\"\n      }\n    },\n    {\n      \"column\": \"\\u041d\\u043e\\u043c\\u0435\\u0440\\u043e\\u0432\",\n      \"properties\": {\n        \"dtype\": \"number\",\n        \"std\": 0,\n        \"min\": 1,\n        \"max\": 2,\n        \"num_unique_values\": 2,\n        \"samples\": [\n          2,\n          1\n        ],\n        \"semantic_type\": \"\",\n        \"description\": \"\"\n      }\n    },\n    {\n      \"column\": \"\\u0421\\u0442\\u043e\\u0438\\u043c\\u043e\\u0441\\u0442\\u044c\",\n      \"properties\": {\n        \"dtype\": \"number\",\n        \"std\": 19866.881989884572,\n        \"min\": 13700.0,\n        \"max\": 62400.0,\n        \"num_unique_values\": 5,\n        \"samples\": [\n          13700.0,\n          62400.0\n        ],\n        \"semantic_type\": \"\",\n        \"description\": \"\"\n      }\n    },\n    {\n      \"column\": \"\\u0412\\u043d\\u0435\\u0441\\u0435\\u043d\\u0430 \\u043f\\u0440\\u0435\\u0434\\u043e\\u043f\\u043b\\u0430\\u0442\\u0430\",\n      \"properties\": {\n        \"dtype\": \"number\",\n        \"std\": 11974,\n        \"min\": 0,\n        \"max\": 31200,\n        \"num_unique_values\": 5,\n        \"samples\": [\n          13700,\n          31200\n        ],\n        \"semantic_type\": \"\",\n        \"description\": \"\"\n      }\n    },\n    {\n      \"column\": \"\\u0421\\u043f\\u043e\\u0441\\u043e\\u0431 \\u043e\\u043f\\u043b\\u0430\\u0442\\u044b\",\n      \"properties\": {\n        \"dtype\": \"category\",\n        \"num_unique_values\": 2,\n        \"samples\": [\n          \"\\u0413\\u0430\\u0440\\u0430\\u043d\\u0442\\u0438\\u044f \\u0431\\u0430\\u043d\\u043a\\u043e\\u0432\\u0441\\u043a\\u043e\\u0439 \\u043a\\u0430\\u0440\\u0442\\u043e\\u0439\",\n          \"\\u0411\\u0430\\u043d\\u043a. \\u043a\\u0430\\u0440\\u0442\\u0430: \\u0411\\u0430\\u043d\\u043a \\u0420\\u043e\\u0441\\u0441\\u0438\\u044f (\\u0431\\u0430\\u043d\\u043a. \\u043a\\u0430\\u0440\\u0442\\u0430)\"\n        ],\n        \"semantic_type\": \"\",\n        \"description\": \"\"\n      }\n    },\n    {\n      \"column\": \"\\u0414\\u0430\\u0442\\u0430 \\u0431\\u0440\\u043e\\u043d\\u0438\\u0440\\u043e\\u0432\\u0430\\u043d\\u0438\\u044f\",\n      \"properties\": {\n        \"dtype\": \"date\",\n        \"min\": \"2022-01-03 21:42:53\",\n        \"max\": \"2023-10-23 19:18:51\",\n        \"num_unique_values\": 5,\n        \"samples\": [\n          \"2022-07-13 20:08:16\",\n          \"2023-06-11 17:41:04\"\n        ],\n        \"semantic_type\": \"\",\n        \"description\": \"\"\n      }\n    },\n    {\n      \"column\": \"\\u0414\\u0430\\u0442\\u0430 \\u043e\\u0442\\u043c\\u0435\\u043d\\u044b\",\n      \"properties\": {\n        \"dtype\": \"date\",\n        \"min\": \"2022-03-04 16:56:54\",\n        \"max\": \"2023-06-11 20:53:56\",\n        \"num_unique_values\": 2,\n        \"samples\": [\n          \"2023-06-11 20:53:56\",\n          \"2022-03-04 16:56:54\"\n        ],\n        \"semantic_type\": \"\",\n        \"description\": \"\"\n      }\n    },\n    {\n      \"column\": \"\\u0417\\u0430\\u0435\\u0437\\u0434\",\n      \"properties\": {\n        \"dtype\": \"date\",\n        \"min\": \"2022-01-04 16:00:00\",\n        \"max\": \"2023-10-27 15:00:00\",\n        \"num_unique_values\": 5,\n        \"samples\": [\n          \"2022-07-15 15:00:00\",\n          \"2023-07-15 15:00:00\"\n        ],\n        \"semantic_type\": \"\",\n        \"description\": \"\"\n      }\n    },\n    {\n      \"column\": \"\\u041d\\u043e\\u0447\\u0435\\u0439\",\n      \"properties\": {\n        \"dtype\": \"number\",\n        \"std\": 0,\n        \"min\": 1,\n        \"max\": 2,\n        \"num_unique_values\": 2,\n        \"samples\": [\n          1,\n          2\n        ],\n        \"semantic_type\": \"\",\n        \"description\": \"\"\n      }\n    },\n    {\n      \"column\": \"\\u0412\\u044b\\u0435\\u0437\\u0434\",\n      \"properties\": {\n        \"dtype\": \"date\",\n        \"min\": \"2022-01-06 12:00:00\",\n        \"max\": \"2023-10-29 12:00:00\",\n        \"num_unique_values\": 5,\n        \"samples\": [\n          \"2022-07-16 12:00:00\",\n          \"2023-07-17 12:00:00\"\n        ],\n        \"semantic_type\": \"\",\n        \"description\": \"\"\n      }\n    },\n    {\n      \"column\": \"\\u0418\\u0441\\u0442\\u043e\\u0447\\u043d\\u0438\\u043a\",\n      \"properties\": {\n        \"dtype\": \"category\",\n        \"num_unique_values\": 2,\n        \"samples\": [\n          \"booking.com (Booking.com)\",\n          \"\\u041e\\u0444\\u0438\\u0446\\u0438\\u0430\\u043b\\u044c\\u043d\\u044b\\u0439 \\u0441\\u0430\\u0439\\u0442\"\n        ],\n        \"semantic_type\": \"\",\n        \"description\": \"\"\n      }\n    },\n    {\n      \"column\": \"\\u0421\\u0442\\u0430\\u0442\\u0443\\u0441 \\u0431\\u0440\\u043e\\u043d\\u0438\",\n      \"properties\": {\n        \"dtype\": \"category\",\n        \"num_unique_values\": 2,\n        \"samples\": [\n          \"\\u0410\\u043a\\u0442\\u0438\\u0432\\u043d\\u044b\\u0439\",\n          \"\\u041e\\u0442\\u043c\\u0435\\u043d\\u0430\"\n        ],\n        \"semantic_type\": \"\",\n        \"description\": \"\"\n      }\n    },\n    {\n      \"column\": \"\\u041a\\u0430\\u0442\\u0435\\u0433\\u043e\\u0440\\u0438\\u044f \\u043d\\u043e\\u043c\\u0435\\u0440\\u0430\",\n      \"properties\": {\n        \"dtype\": \"category\",\n        \"num_unique_values\": 1,\n        \"samples\": [\n          \"\\u041d\\u043e\\u043c\\u0435\\u0440 \\u00ab\\u0421\\u0442\\u0430\\u043d\\u0434\\u0430\\u0440\\u0442\\u00bb\"\n        ],\n        \"semantic_type\": \"\",\n        \"description\": \"\"\n      }\n    },\n    {\n      \"column\": \"\\u0413\\u043e\\u0441\\u0442\\u0435\\u0439\",\n      \"properties\": {\n        \"dtype\": \"number\",\n        \"std\": 0,\n        \"min\": 2,\n        \"max\": 4,\n        \"num_unique_values\": 2,\n        \"samples\": [\n          4\n        ],\n        \"semantic_type\": \"\",\n        \"description\": \"\"\n      }\n    },\n    {\n      \"column\": \"\\u0413\\u043e\\u0441\\u0442\\u0438\\u043d\\u0438\\u0446\\u0430\",\n      \"properties\": {\n        \"dtype\": \"number\",\n        \"std\": 0,\n        \"min\": 1,\n        \"max\": 3,\n        \"num_unique_values\": 3,\n        \"samples\": [\n          2\n        ],\n        \"semantic_type\": \"\",\n        \"description\": \"\"\n      }\n    }\n  ]\n}"
            }
          },
          "metadata": {},
          "execution_count": 258
        }
      ]
    },
    {
      "cell_type": "code",
      "source": [
        "X_train=X_train.drop(['Unnamed: 0','№ брони'],axis=1)"
      ],
      "metadata": {
        "id": "SNzEOroLcvaO"
      },
      "execution_count": 259,
      "outputs": []
    },
    {
      "cell_type": "code",
      "source": [
        "X_test=X_test.drop(['Unnamed: 0','№ брони'],axis=1)"
      ],
      "metadata": {
        "id": "gzujl8d6dB-H"
      },
      "execution_count": 260,
      "outputs": []
    },
    {
      "cell_type": "code",
      "source": [
        "X_train.sample(2)"
      ],
      "metadata": {
        "colab": {
          "base_uri": "https://localhost:8080/",
          "height": 288
        },
        "id": "UDQlyiUBdKSY",
        "outputId": "8d8ef6e4-1732-42da-e2fa-8594be1bfccb"
      },
      "execution_count": 261,
      "outputs": [
        {
          "output_type": "execute_result",
          "data": {
            "text/plain": [
              "      Номеров  Стоимость  Внесена предоплата  \\\n",
              "4579        1    20100.0                   0   \n",
              "6531        1    31540.0               31540   \n",
              "\n",
              "                                          Способ оплаты   Дата бронирования  \\\n",
              "4579                                      При заселении 2023-09-06 17:58:44   \n",
              "6531  Отложенная электронная оплата: Банк Россия (ба... 2022-03-20 20:45:48   \n",
              "\n",
              "     Дата отмены               Заезд  Ночей               Выезд  \\\n",
              "4579         NaT 2023-09-16 15:00:00      1 2023-09-17 12:00:00   \n",
              "6531         NaT 2022-04-01 15:00:00      2 2022-04-03 12:00:00   \n",
              "\n",
              "                        Источник Статус брони  \\\n",
              "4579            Официальный сайт     Активный   \n",
              "6531  Бронирование из экстранета     Активный   \n",
              "\n",
              "                                  Категория номера  Гостей  Гостиница  \n",
              "4579  Апартаменты с 2 спальнями с отдельным входом       5          1  \n",
              "6531                                Номер «Студия»       2          2  "
            ],
            "text/html": [
              "\n",
              "  <div id=\"df-d9d00ab9-a7f0-44bf-8416-c97c91f61c0f\" class=\"colab-df-container\">\n",
              "    <div>\n",
              "<style scoped>\n",
              "    .dataframe tbody tr th:only-of-type {\n",
              "        vertical-align: middle;\n",
              "    }\n",
              "\n",
              "    .dataframe tbody tr th {\n",
              "        vertical-align: top;\n",
              "    }\n",
              "\n",
              "    .dataframe thead th {\n",
              "        text-align: right;\n",
              "    }\n",
              "</style>\n",
              "<table border=\"1\" class=\"dataframe\">\n",
              "  <thead>\n",
              "    <tr style=\"text-align: right;\">\n",
              "      <th></th>\n",
              "      <th>Номеров</th>\n",
              "      <th>Стоимость</th>\n",
              "      <th>Внесена предоплата</th>\n",
              "      <th>Способ оплаты</th>\n",
              "      <th>Дата бронирования</th>\n",
              "      <th>Дата отмены</th>\n",
              "      <th>Заезд</th>\n",
              "      <th>Ночей</th>\n",
              "      <th>Выезд</th>\n",
              "      <th>Источник</th>\n",
              "      <th>Статус брони</th>\n",
              "      <th>Категория номера</th>\n",
              "      <th>Гостей</th>\n",
              "      <th>Гостиница</th>\n",
              "    </tr>\n",
              "  </thead>\n",
              "  <tbody>\n",
              "    <tr>\n",
              "      <th>4579</th>\n",
              "      <td>1</td>\n",
              "      <td>20100.0</td>\n",
              "      <td>0</td>\n",
              "      <td>При заселении</td>\n",
              "      <td>2023-09-06 17:58:44</td>\n",
              "      <td>NaT</td>\n",
              "      <td>2023-09-16 15:00:00</td>\n",
              "      <td>1</td>\n",
              "      <td>2023-09-17 12:00:00</td>\n",
              "      <td>Официальный сайт</td>\n",
              "      <td>Активный</td>\n",
              "      <td>Апартаменты с 2 спальнями с отдельным входом</td>\n",
              "      <td>5</td>\n",
              "      <td>1</td>\n",
              "    </tr>\n",
              "    <tr>\n",
              "      <th>6531</th>\n",
              "      <td>1</td>\n",
              "      <td>31540.0</td>\n",
              "      <td>31540</td>\n",
              "      <td>Отложенная электронная оплата: Банк Россия (ба...</td>\n",
              "      <td>2022-03-20 20:45:48</td>\n",
              "      <td>NaT</td>\n",
              "      <td>2022-04-01 15:00:00</td>\n",
              "      <td>2</td>\n",
              "      <td>2022-04-03 12:00:00</td>\n",
              "      <td>Бронирование из экстранета</td>\n",
              "      <td>Активный</td>\n",
              "      <td>Номер «Студия»</td>\n",
              "      <td>2</td>\n",
              "      <td>2</td>\n",
              "    </tr>\n",
              "  </tbody>\n",
              "</table>\n",
              "</div>\n",
              "    <div class=\"colab-df-buttons\">\n",
              "\n",
              "  <div class=\"colab-df-container\">\n",
              "    <button class=\"colab-df-convert\" onclick=\"convertToInteractive('df-d9d00ab9-a7f0-44bf-8416-c97c91f61c0f')\"\n",
              "            title=\"Convert this dataframe to an interactive table.\"\n",
              "            style=\"display:none;\">\n",
              "\n",
              "  <svg xmlns=\"http://www.w3.org/2000/svg\" height=\"24px\" viewBox=\"0 -960 960 960\">\n",
              "    <path d=\"M120-120v-720h720v720H120Zm60-500h600v-160H180v160Zm220 220h160v-160H400v160Zm0 220h160v-160H400v160ZM180-400h160v-160H180v160Zm440 0h160v-160H620v160ZM180-180h160v-160H180v160Zm440 0h160v-160H620v160Z\"/>\n",
              "  </svg>\n",
              "    </button>\n",
              "\n",
              "  <style>\n",
              "    .colab-df-container {\n",
              "      display:flex;\n",
              "      gap: 12px;\n",
              "    }\n",
              "\n",
              "    .colab-df-convert {\n",
              "      background-color: #E8F0FE;\n",
              "      border: none;\n",
              "      border-radius: 50%;\n",
              "      cursor: pointer;\n",
              "      display: none;\n",
              "      fill: #1967D2;\n",
              "      height: 32px;\n",
              "      padding: 0 0 0 0;\n",
              "      width: 32px;\n",
              "    }\n",
              "\n",
              "    .colab-df-convert:hover {\n",
              "      background-color: #E2EBFA;\n",
              "      box-shadow: 0px 1px 2px rgba(60, 64, 67, 0.3), 0px 1px 3px 1px rgba(60, 64, 67, 0.15);\n",
              "      fill: #174EA6;\n",
              "    }\n",
              "\n",
              "    .colab-df-buttons div {\n",
              "      margin-bottom: 4px;\n",
              "    }\n",
              "\n",
              "    [theme=dark] .colab-df-convert {\n",
              "      background-color: #3B4455;\n",
              "      fill: #D2E3FC;\n",
              "    }\n",
              "\n",
              "    [theme=dark] .colab-df-convert:hover {\n",
              "      background-color: #434B5C;\n",
              "      box-shadow: 0px 1px 3px 1px rgba(0, 0, 0, 0.15);\n",
              "      filter: drop-shadow(0px 1px 2px rgba(0, 0, 0, 0.3));\n",
              "      fill: #FFFFFF;\n",
              "    }\n",
              "  </style>\n",
              "\n",
              "    <script>\n",
              "      const buttonEl =\n",
              "        document.querySelector('#df-d9d00ab9-a7f0-44bf-8416-c97c91f61c0f button.colab-df-convert');\n",
              "      buttonEl.style.display =\n",
              "        google.colab.kernel.accessAllowed ? 'block' : 'none';\n",
              "\n",
              "      async function convertToInteractive(key) {\n",
              "        const element = document.querySelector('#df-d9d00ab9-a7f0-44bf-8416-c97c91f61c0f');\n",
              "        const dataTable =\n",
              "          await google.colab.kernel.invokeFunction('convertToInteractive',\n",
              "                                                    [key], {});\n",
              "        if (!dataTable) return;\n",
              "\n",
              "        const docLinkHtml = 'Like what you see? Visit the ' +\n",
              "          '<a target=\"_blank\" href=https://colab.research.google.com/notebooks/data_table.ipynb>data table notebook</a>'\n",
              "          + ' to learn more about interactive tables.';\n",
              "        element.innerHTML = '';\n",
              "        dataTable['output_type'] = 'display_data';\n",
              "        await google.colab.output.renderOutput(dataTable, element);\n",
              "        const docLink = document.createElement('div');\n",
              "        docLink.innerHTML = docLinkHtml;\n",
              "        element.appendChild(docLink);\n",
              "      }\n",
              "    </script>\n",
              "  </div>\n",
              "\n",
              "\n",
              "<div id=\"df-1bb61326-0e6c-44c7-ac40-a0c7acde3d14\">\n",
              "  <button class=\"colab-df-quickchart\" onclick=\"quickchart('df-1bb61326-0e6c-44c7-ac40-a0c7acde3d14')\"\n",
              "            title=\"Suggest charts\"\n",
              "            style=\"display:none;\">\n",
              "\n",
              "<svg xmlns=\"http://www.w3.org/2000/svg\" height=\"24px\"viewBox=\"0 0 24 24\"\n",
              "     width=\"24px\">\n",
              "    <g>\n",
              "        <path d=\"M19 3H5c-1.1 0-2 .9-2 2v14c0 1.1.9 2 2 2h14c1.1 0 2-.9 2-2V5c0-1.1-.9-2-2-2zM9 17H7v-7h2v7zm4 0h-2V7h2v10zm4 0h-2v-4h2v4z\"/>\n",
              "    </g>\n",
              "</svg>\n",
              "  </button>\n",
              "\n",
              "<style>\n",
              "  .colab-df-quickchart {\n",
              "      --bg-color: #E8F0FE;\n",
              "      --fill-color: #1967D2;\n",
              "      --hover-bg-color: #E2EBFA;\n",
              "      --hover-fill-color: #174EA6;\n",
              "      --disabled-fill-color: #AAA;\n",
              "      --disabled-bg-color: #DDD;\n",
              "  }\n",
              "\n",
              "  [theme=dark] .colab-df-quickchart {\n",
              "      --bg-color: #3B4455;\n",
              "      --fill-color: #D2E3FC;\n",
              "      --hover-bg-color: #434B5C;\n",
              "      --hover-fill-color: #FFFFFF;\n",
              "      --disabled-bg-color: #3B4455;\n",
              "      --disabled-fill-color: #666;\n",
              "  }\n",
              "\n",
              "  .colab-df-quickchart {\n",
              "    background-color: var(--bg-color);\n",
              "    border: none;\n",
              "    border-radius: 50%;\n",
              "    cursor: pointer;\n",
              "    display: none;\n",
              "    fill: var(--fill-color);\n",
              "    height: 32px;\n",
              "    padding: 0;\n",
              "    width: 32px;\n",
              "  }\n",
              "\n",
              "  .colab-df-quickchart:hover {\n",
              "    background-color: var(--hover-bg-color);\n",
              "    box-shadow: 0 1px 2px rgba(60, 64, 67, 0.3), 0 1px 3px 1px rgba(60, 64, 67, 0.15);\n",
              "    fill: var(--button-hover-fill-color);\n",
              "  }\n",
              "\n",
              "  .colab-df-quickchart-complete:disabled,\n",
              "  .colab-df-quickchart-complete:disabled:hover {\n",
              "    background-color: var(--disabled-bg-color);\n",
              "    fill: var(--disabled-fill-color);\n",
              "    box-shadow: none;\n",
              "  }\n",
              "\n",
              "  .colab-df-spinner {\n",
              "    border: 2px solid var(--fill-color);\n",
              "    border-color: transparent;\n",
              "    border-bottom-color: var(--fill-color);\n",
              "    animation:\n",
              "      spin 1s steps(1) infinite;\n",
              "  }\n",
              "\n",
              "  @keyframes spin {\n",
              "    0% {\n",
              "      border-color: transparent;\n",
              "      border-bottom-color: var(--fill-color);\n",
              "      border-left-color: var(--fill-color);\n",
              "    }\n",
              "    20% {\n",
              "      border-color: transparent;\n",
              "      border-left-color: var(--fill-color);\n",
              "      border-top-color: var(--fill-color);\n",
              "    }\n",
              "    30% {\n",
              "      border-color: transparent;\n",
              "      border-left-color: var(--fill-color);\n",
              "      border-top-color: var(--fill-color);\n",
              "      border-right-color: var(--fill-color);\n",
              "    }\n",
              "    40% {\n",
              "      border-color: transparent;\n",
              "      border-right-color: var(--fill-color);\n",
              "      border-top-color: var(--fill-color);\n",
              "    }\n",
              "    60% {\n",
              "      border-color: transparent;\n",
              "      border-right-color: var(--fill-color);\n",
              "    }\n",
              "    80% {\n",
              "      border-color: transparent;\n",
              "      border-right-color: var(--fill-color);\n",
              "      border-bottom-color: var(--fill-color);\n",
              "    }\n",
              "    90% {\n",
              "      border-color: transparent;\n",
              "      border-bottom-color: var(--fill-color);\n",
              "    }\n",
              "  }\n",
              "</style>\n",
              "\n",
              "  <script>\n",
              "    async function quickchart(key) {\n",
              "      const quickchartButtonEl =\n",
              "        document.querySelector('#' + key + ' button');\n",
              "      quickchartButtonEl.disabled = true;  // To prevent multiple clicks.\n",
              "      quickchartButtonEl.classList.add('colab-df-spinner');\n",
              "      try {\n",
              "        const charts = await google.colab.kernel.invokeFunction(\n",
              "            'suggestCharts', [key], {});\n",
              "      } catch (error) {\n",
              "        console.error('Error during call to suggestCharts:', error);\n",
              "      }\n",
              "      quickchartButtonEl.classList.remove('colab-df-spinner');\n",
              "      quickchartButtonEl.classList.add('colab-df-quickchart-complete');\n",
              "    }\n",
              "    (() => {\n",
              "      let quickchartButtonEl =\n",
              "        document.querySelector('#df-1bb61326-0e6c-44c7-ac40-a0c7acde3d14 button');\n",
              "      quickchartButtonEl.style.display =\n",
              "        google.colab.kernel.accessAllowed ? 'block' : 'none';\n",
              "    })();\n",
              "  </script>\n",
              "</div>\n",
              "    </div>\n",
              "  </div>\n"
            ],
            "application/vnd.google.colaboratory.intrinsic+json": {
              "type": "dataframe",
              "summary": "{\n  \"name\": \"X_train\",\n  \"rows\": 2,\n  \"fields\": [\n    {\n      \"column\": \"\\u041d\\u043e\\u043c\\u0435\\u0440\\u043e\\u0432\",\n      \"properties\": {\n        \"dtype\": \"number\",\n        \"std\": 0,\n        \"min\": 1,\n        \"max\": 1,\n        \"num_unique_values\": 1,\n        \"samples\": [\n          1\n        ],\n        \"semantic_type\": \"\",\n        \"description\": \"\"\n      }\n    },\n    {\n      \"column\": \"\\u0421\\u0442\\u043e\\u0438\\u043c\\u043e\\u0441\\u0442\\u044c\",\n      \"properties\": {\n        \"dtype\": \"number\",\n        \"std\": 8089.3015767741035,\n        \"min\": 20100.0,\n        \"max\": 31540.0,\n        \"num_unique_values\": 2,\n        \"samples\": [\n          31540.0\n        ],\n        \"semantic_type\": \"\",\n        \"description\": \"\"\n      }\n    },\n    {\n      \"column\": \"\\u0412\\u043d\\u0435\\u0441\\u0435\\u043d\\u0430 \\u043f\\u0440\\u0435\\u0434\\u043e\\u043f\\u043b\\u0430\\u0442\\u0430\",\n      \"properties\": {\n        \"dtype\": \"number\",\n        \"std\": 22302,\n        \"min\": 0,\n        \"max\": 31540,\n        \"num_unique_values\": 2,\n        \"samples\": [\n          31540\n        ],\n        \"semantic_type\": \"\",\n        \"description\": \"\"\n      }\n    },\n    {\n      \"column\": \"\\u0421\\u043f\\u043e\\u0441\\u043e\\u0431 \\u043e\\u043f\\u043b\\u0430\\u0442\\u044b\",\n      \"properties\": {\n        \"dtype\": \"string\",\n        \"num_unique_values\": 2,\n        \"samples\": [\n          \"\\u041e\\u0442\\u043b\\u043e\\u0436\\u0435\\u043d\\u043d\\u0430\\u044f \\u044d\\u043b\\u0435\\u043a\\u0442\\u0440\\u043e\\u043d\\u043d\\u0430\\u044f \\u043e\\u043f\\u043b\\u0430\\u0442\\u0430: \\u0411\\u0430\\u043d\\u043a \\u0420\\u043e\\u0441\\u0441\\u0438\\u044f (\\u0431\\u0430\\u043d\\u043a. \\u043a\\u0430\\u0440\\u0442\\u0430)\"\n        ],\n        \"semantic_type\": \"\",\n        \"description\": \"\"\n      }\n    },\n    {\n      \"column\": \"\\u0414\\u0430\\u0442\\u0430 \\u0431\\u0440\\u043e\\u043d\\u0438\\u0440\\u043e\\u0432\\u0430\\u043d\\u0438\\u044f\",\n      \"properties\": {\n        \"dtype\": \"date\",\n        \"min\": \"2022-03-20 20:45:48\",\n        \"max\": \"2023-09-06 17:58:44\",\n        \"num_unique_values\": 2,\n        \"samples\": [\n          \"2022-03-20 20:45:48\"\n        ],\n        \"semantic_type\": \"\",\n        \"description\": \"\"\n      }\n    },\n    {\n      \"column\": \"\\u0414\\u0430\\u0442\\u0430 \\u043e\\u0442\\u043c\\u0435\\u043d\\u044b\",\n      \"properties\": {\n        \"dtype\": \"date\",\n        \"min\": \"NaT\",\n        \"max\": \"NaT\",\n        \"num_unique_values\": 0,\n        \"samples\": [],\n        \"semantic_type\": \"\",\n        \"description\": \"\"\n      }\n    },\n    {\n      \"column\": \"\\u0417\\u0430\\u0435\\u0437\\u0434\",\n      \"properties\": {\n        \"dtype\": \"date\",\n        \"min\": \"2022-04-01 15:00:00\",\n        \"max\": \"2023-09-16 15:00:00\",\n        \"num_unique_values\": 2,\n        \"samples\": [],\n        \"semantic_type\": \"\",\n        \"description\": \"\"\n      }\n    },\n    {\n      \"column\": \"\\u041d\\u043e\\u0447\\u0435\\u0439\",\n      \"properties\": {\n        \"dtype\": \"number\",\n        \"std\": 0,\n        \"min\": 1,\n        \"max\": 2,\n        \"num_unique_values\": 2,\n        \"samples\": [],\n        \"semantic_type\": \"\",\n        \"description\": \"\"\n      }\n    },\n    {\n      \"column\": \"\\u0412\\u044b\\u0435\\u0437\\u0434\",\n      \"properties\": {\n        \"dtype\": \"date\",\n        \"min\": \"2022-04-03 12:00:00\",\n        \"max\": \"2023-09-17 12:00:00\",\n        \"num_unique_values\": 2,\n        \"samples\": [],\n        \"semantic_type\": \"\",\n        \"description\": \"\"\n      }\n    },\n    {\n      \"column\": \"\\u0418\\u0441\\u0442\\u043e\\u0447\\u043d\\u0438\\u043a\",\n      \"properties\": {\n        \"dtype\": \"string\",\n        \"num_unique_values\": 2,\n        \"samples\": [],\n        \"semantic_type\": \"\",\n        \"description\": \"\"\n      }\n    },\n    {\n      \"column\": \"\\u0421\\u0442\\u0430\\u0442\\u0443\\u0441 \\u0431\\u0440\\u043e\\u043d\\u0438\",\n      \"properties\": {\n        \"dtype\": \"string\",\n        \"num_unique_values\": 1,\n        \"samples\": [],\n        \"semantic_type\": \"\",\n        \"description\": \"\"\n      }\n    },\n    {\n      \"column\": \"\\u041a\\u0430\\u0442\\u0435\\u0433\\u043e\\u0440\\u0438\\u044f \\u043d\\u043e\\u043c\\u0435\\u0440\\u0430\",\n      \"properties\": {\n        \"dtype\": \"string\",\n        \"num_unique_values\": 2,\n        \"samples\": [],\n        \"semantic_type\": \"\",\n        \"description\": \"\"\n      }\n    },\n    {\n      \"column\": \"\\u0413\\u043e\\u0441\\u0442\\u0435\\u0439\",\n      \"properties\": {\n        \"dtype\": \"number\",\n        \"std\": 2,\n        \"min\": 2,\n        \"max\": 5,\n        \"num_unique_values\": 2,\n        \"samples\": [],\n        \"semantic_type\": \"\",\n        \"description\": \"\"\n      }\n    },\n    {\n      \"column\": \"\\u0413\\u043e\\u0441\\u0442\\u0438\\u043d\\u0438\\u0446\\u0430\",\n      \"properties\": {\n        \"dtype\": \"number\",\n        \"std\": 0,\n        \"min\": 1,\n        \"max\": 2,\n        \"num_unique_values\": 2,\n        \"samples\": [],\n        \"semantic_type\": \"\",\n        \"description\": \"\"\n      }\n    }\n  ]\n}"
            }
          },
          "metadata": {},
          "execution_count": 261
        }
      ]
    },
    {
      "cell_type": "code",
      "source": [],
      "metadata": {
        "id": "a4lRsYP84fp7"
      },
      "execution_count": 261,
      "outputs": []
    },
    {
      "cell_type": "code",
      "source": [
        "X_train['is_cancelled']=X_train['Дата отмены'].notnull().astype(int)\n"
      ],
      "metadata": {
        "id": "sQoTnikMeXun"
      },
      "execution_count": 262,
      "outputs": []
    },
    {
      "cell_type": "code",
      "source": [
        "X_train['Год даты бронирования'] = X_train['Дата бронирования'].dt.year\n",
        "X_train['Месяц даты бронирования'] = X_train['Дата бронирования'].dt.month\n",
        "X_train['День даты бронирования'] = X_train['Дата бронирования'].dt.day\n",
        "X_train['Час даты бронирования'] = X_train['Дата бронирования'].dt.hour\n",
        "\n",
        "X_train['Год даты отмены'] = X_train['Дата отмены'].dt.year\n",
        "X_train['Месяц даты отмены'] = X_train['Дата отмены'].dt.month\n",
        "X_train['День даты отмены'] = X_train['Дата отмены'].dt.day\n",
        "X_train['Час даты отмены'] = X_train['Дата отмены'].dt.hour\n",
        "\n",
        "X_train['Год заезда'] = X_train['Заезд'].dt.year\n",
        "X_train['Месяц заезда'] = X_train['Заезд'].dt.month\n",
        "X_train['День заезда'] = X_train['Заезд'].dt.day\n",
        "\n",
        "X_train['Год выезда'] = X_train['Выезд'].dt.year\n",
        "X_train['Месяц выезда'] = X_train['Выезд'].dt.month\n",
        "X_train['День выезда'] = X_train['Выезд'].dt.day\n",
        "\n"
      ],
      "metadata": {
        "id": "UA_BPQAUe-8m"
      },
      "execution_count": 263,
      "outputs": []
    },
    {
      "cell_type": "code",
      "source": [
        "X_train=X_train.drop(['Дата бронирования','Дата отмены','Заезд','Выезд'],axis=1)"
      ],
      "metadata": {
        "id": "9-cWfWANhgS4"
      },
      "execution_count": 264,
      "outputs": []
    },
    {
      "cell_type": "code",
      "source": [
        "X_train['Часть предоплаты от стоимости']=X_train['Внесена предоплата']/X_train['Стоимость']"
      ],
      "metadata": {
        "id": "ubYH00nbiKW4"
      },
      "execution_count": 265,
      "outputs": []
    },
    {
      "cell_type": "code",
      "source": [
        "X_train.info()"
      ],
      "metadata": {
        "colab": {
          "base_uri": "https://localhost:8080/"
        },
        "id": "-b2-Z1rJ5I_j",
        "outputId": "a5616006-9241-4467-edfd-68923e9a71c6"
      },
      "execution_count": 266,
      "outputs": [
        {
          "output_type": "stream",
          "name": "stdout",
          "text": [
            "<class 'pandas.core.frame.DataFrame'>\n",
            "RangeIndex: 26174 entries, 0 to 26173\n",
            "Data columns (total 26 columns):\n",
            " #   Column                         Non-Null Count  Dtype  \n",
            "---  ------                         --------------  -----  \n",
            " 0   Номеров                        26174 non-null  int64  \n",
            " 1   Стоимость                      26174 non-null  float64\n",
            " 2   Внесена предоплата             26174 non-null  int64  \n",
            " 3   Способ оплаты                  26174 non-null  object \n",
            " 4   Ночей                          26174 non-null  int64  \n",
            " 5   Источник                       26174 non-null  object \n",
            " 6   Статус брони                   26174 non-null  object \n",
            " 7   Категория номера               26174 non-null  object \n",
            " 8   Гостей                         26174 non-null  int64  \n",
            " 9   Гостиница                      26174 non-null  int64  \n",
            " 10  is_cancelled                   26174 non-null  int64  \n",
            " 11  Год даты бронирования          26174 non-null  int32  \n",
            " 12  Месяц даты бронирования        26174 non-null  int32  \n",
            " 13  День даты бронирования         26174 non-null  int32  \n",
            " 14  Час даты бронирования          26174 non-null  int32  \n",
            " 15  Год даты отмены                5192 non-null   float64\n",
            " 16  Месяц даты отмены              5192 non-null   float64\n",
            " 17  День даты отмены               5192 non-null   float64\n",
            " 18  Час даты отмены                5192 non-null   float64\n",
            " 19  Год заезда                     26174 non-null  int32  \n",
            " 20  Месяц заезда                   26174 non-null  int32  \n",
            " 21  День заезда                    26174 non-null  int32  \n",
            " 22  Год выезда                     26174 non-null  int32  \n",
            " 23  Месяц выезда                   26174 non-null  int32  \n",
            " 24  День выезда                    26174 non-null  int32  \n",
            " 25  Часть предоплаты от стоимости  26174 non-null  float64\n",
            "dtypes: float64(6), int32(10), int64(6), object(4)\n",
            "memory usage: 4.2+ MB\n"
          ]
        }
      ]
    },
    {
      "cell_type": "code",
      "source": [
        "X_train=X_train.drop(['Статус брони','Год даты отмены','Месяц даты отмены','День даты отмены','Час даты отмены'],axis=1)"
      ],
      "metadata": {
        "id": "kGz6glsA5pIL"
      },
      "execution_count": 267,
      "outputs": []
    },
    {
      "cell_type": "code",
      "source": [
        "X_train=X_train.drop(['День даты бронирования','Час даты бронирования','День заезда','День выезда'],axis=1)"
      ],
      "metadata": {
        "id": "jGaJqWA16Dhw"
      },
      "execution_count": 268,
      "outputs": []
    },
    {
      "cell_type": "code",
      "source": [
        "X_train=X_train.drop(['Год заезда','Год выезда'],axis=1)"
      ],
      "metadata": {
        "id": "tz9NfQbD9k06"
      },
      "execution_count": 269,
      "outputs": []
    },
    {
      "cell_type": "code",
      "source": [
        "X_train=X_train.drop(['Стоимость','Внесена предоплата'],axis=1)"
      ],
      "metadata": {
        "id": "ElMGm8YB9d3C"
      },
      "execution_count": 270,
      "outputs": []
    },
    {
      "cell_type": "code",
      "source": [
        "X_train.info()"
      ],
      "metadata": {
        "colab": {
          "base_uri": "https://localhost:8080/"
        },
        "id": "GMqFLyfQ912y",
        "outputId": "5b811331-4bd3-4973-b50d-93a3d8b61296"
      },
      "execution_count": 271,
      "outputs": [
        {
          "output_type": "stream",
          "name": "stdout",
          "text": [
            "<class 'pandas.core.frame.DataFrame'>\n",
            "RangeIndex: 26174 entries, 0 to 26173\n",
            "Data columns (total 13 columns):\n",
            " #   Column                         Non-Null Count  Dtype  \n",
            "---  ------                         --------------  -----  \n",
            " 0   Номеров                        26174 non-null  int64  \n",
            " 1   Способ оплаты                  26174 non-null  object \n",
            " 2   Ночей                          26174 non-null  int64  \n",
            " 3   Источник                       26174 non-null  object \n",
            " 4   Категория номера               26174 non-null  object \n",
            " 5   Гостей                         26174 non-null  int64  \n",
            " 6   Гостиница                      26174 non-null  int64  \n",
            " 7   is_cancelled                   26174 non-null  int64  \n",
            " 8   Год даты бронирования          26174 non-null  int32  \n",
            " 9   Месяц даты бронирования        26174 non-null  int32  \n",
            " 10  Месяц заезда                   26174 non-null  int32  \n",
            " 11  Месяц выезда                   26174 non-null  int32  \n",
            " 12  Часть предоплаты от стоимости  26174 non-null  float64\n",
            "dtypes: float64(1), int32(4), int64(5), object(3)\n",
            "memory usage: 2.2+ MB\n"
          ]
        }
      ]
    },
    {
      "cell_type": "code",
      "source": [
        "X_test['Год даты бронирования'] = X_test['Дата бронирования'].dt.year\n",
        "X_test['Месяц даты бронирования'] = X_test['Дата бронирования'].dt.month\n",
        "X_test['Месяц заезда'] = X_test['Заезд'].dt.month\n",
        "X_test['Месяц выезда'] = X_test['Выезд'].dt.month"
      ],
      "metadata": {
        "collapsed": true,
        "id": "fCaiRElAPX5R"
      },
      "execution_count": 272,
      "outputs": []
    },
    {
      "cell_type": "code",
      "source": [],
      "metadata": {
        "id": "9wrKxUg3RBgJ"
      },
      "execution_count": 272,
      "outputs": []
    },
    {
      "cell_type": "code",
      "source": [],
      "metadata": {
        "id": "AdJf9ITWQVcx"
      },
      "execution_count": 272,
      "outputs": []
    },
    {
      "cell_type": "code",
      "source": [
        "X_test=X_test.drop(['Дата бронирования','Заезд','Выезд'],axis=1)\n"
      ],
      "metadata": {
        "id": "AfCV0WZqQcMZ"
      },
      "execution_count": 273,
      "outputs": []
    },
    {
      "cell_type": "code",
      "source": [
        "\n",
        "X_test['Часть предоплаты от стоимости']=X_test['Внесена предоплата']/X_test['Стоимость']"
      ],
      "metadata": {
        "id": "RBivC_YCQPyq"
      },
      "execution_count": 274,
      "outputs": []
    },
    {
      "cell_type": "code",
      "source": [
        "X_test=X_test.drop(['Стоимость','Внесена предоплата'],axis=1)"
      ],
      "metadata": {
        "id": "fsy3S1HERbtp"
      },
      "execution_count": 275,
      "outputs": []
    },
    {
      "cell_type": "code",
      "source": [
        "X_train.info()"
      ],
      "metadata": {
        "colab": {
          "base_uri": "https://localhost:8080/"
        },
        "id": "4ZzQW1kzRy0C",
        "outputId": "751613b5-def3-4eb0-981a-fdf8faf54941"
      },
      "execution_count": 276,
      "outputs": [
        {
          "output_type": "stream",
          "name": "stdout",
          "text": [
            "<class 'pandas.core.frame.DataFrame'>\n",
            "RangeIndex: 26174 entries, 0 to 26173\n",
            "Data columns (total 13 columns):\n",
            " #   Column                         Non-Null Count  Dtype  \n",
            "---  ------                         --------------  -----  \n",
            " 0   Номеров                        26174 non-null  int64  \n",
            " 1   Способ оплаты                  26174 non-null  object \n",
            " 2   Ночей                          26174 non-null  int64  \n",
            " 3   Источник                       26174 non-null  object \n",
            " 4   Категория номера               26174 non-null  object \n",
            " 5   Гостей                         26174 non-null  int64  \n",
            " 6   Гостиница                      26174 non-null  int64  \n",
            " 7   is_cancelled                   26174 non-null  int64  \n",
            " 8   Год даты бронирования          26174 non-null  int32  \n",
            " 9   Месяц даты бронирования        26174 non-null  int32  \n",
            " 10  Месяц заезда                   26174 non-null  int32  \n",
            " 11  Месяц выезда                   26174 non-null  int32  \n",
            " 12  Часть предоплаты от стоимости  26174 non-null  float64\n",
            "dtypes: float64(1), int32(4), int64(5), object(3)\n",
            "memory usage: 2.2+ MB\n"
          ]
        }
      ]
    },
    {
      "cell_type": "code",
      "source": [
        "X_test.info()"
      ],
      "metadata": {
        "colab": {
          "base_uri": "https://localhost:8080/"
        },
        "id": "4o8HT5lNRwTq",
        "outputId": "dab37595-66b9-4f74-9791-49e28ed86b06"
      },
      "execution_count": 277,
      "outputs": [
        {
          "output_type": "stream",
          "name": "stdout",
          "text": [
            "<class 'pandas.core.frame.DataFrame'>\n",
            "RangeIndex: 11218 entries, 0 to 11217\n",
            "Data columns (total 12 columns):\n",
            " #   Column                         Non-Null Count  Dtype  \n",
            "---  ------                         --------------  -----  \n",
            " 0   Номеров                        11218 non-null  int64  \n",
            " 1   Способ оплаты                  11218 non-null  object \n",
            " 2   Ночей                          11218 non-null  int64  \n",
            " 3   Источник                       11218 non-null  object \n",
            " 4   Категория номера               11218 non-null  object \n",
            " 5   Гостей                         11218 non-null  int64  \n",
            " 6   Гостиница                      11218 non-null  int64  \n",
            " 7   Год даты бронирования          11218 non-null  int32  \n",
            " 8   Месяц даты бронирования        11218 non-null  int32  \n",
            " 9   Месяц заезда                   11218 non-null  int32  \n",
            " 10  Месяц выезда                   11218 non-null  int32  \n",
            " 11  Часть предоплаты от стоимости  11218 non-null  float64\n",
            "dtypes: float64(1), int32(4), int64(4), object(3)\n",
            "memory usage: 876.5+ KB\n"
          ]
        }
      ]
    },
    {
      "cell_type": "code",
      "source": [
        "X=X_train.drop('is_cancelled',axis=1)\n",
        "y=X_train['is_cancelled']\n",
        "X_train1, X_val1, y_train1, y_val1 = train_test_split(X, y, test_size=0.3, random_state=42)\n",
        "categorical_features = ['Способ оплаты', 'Источник','Категория номера']\n",
        "# train_pool = Pool(X_train1,y_train1, cat_features=categorical_features)"
      ],
      "metadata": {
        "id": "CI_I4BCUr2GM"
      },
      "execution_count": 278,
      "outputs": []
    },
    {
      "cell_type": "code",
      "source": [
        "model = CatBoostClassifier(\n",
        "    iterations=500,\n",
        "    learning_rate=0.1,\n",
        "    depth=6,\n",
        "    l2_leaf_reg=3.0,\n",
        "    bagging_temperature=0.2,\n",
        "    random_strength=0.5,\n",
        "    grow_policy='Lossguide',\n",
        "    cat_features=categorical_features,\n",
        "    verbose=0,\n",
        "    class_weights=[1,4]\n",
        ")\n",
        "model.fit(X_train1,y_train1, cat_features=categorical_features)"
      ],
      "metadata": {
        "colab": {
          "base_uri": "https://localhost:8080/"
        },
        "collapsed": true,
        "id": "IYT0LotlsppU",
        "outputId": "0d453ee3-bc27-4d31-d461-baf3361ad04e"
      },
      "execution_count": 279,
      "outputs": [
        {
          "output_type": "execute_result",
          "data": {
            "text/plain": [
              "<catboost.core.CatBoostClassifier at 0x7e01a9e81840>"
            ]
          },
          "metadata": {},
          "execution_count": 279
        }
      ]
    },
    {
      "cell_type": "code",
      "source": [
        "y_pred = model.predict(X_val1)\n",
        "#y_pred_proba = model.predict_proba(X_val1)[:,]  # Вероятности класса 1"
      ],
      "metadata": {
        "id": "9qzOLKY4wrw_"
      },
      "execution_count": 280,
      "outputs": []
    },
    {
      "cell_type": "code",
      "source": [
        "def roc_auc_curve(y, y_pred):\n",
        "  # Расчет TPR, FPR и порогов\n",
        "  fpr, tpr, thresholds = roc_curve(y, y_pred)\n",
        "\n",
        "  # Расчет AUC\n",
        "  roc_auc = auc(fpr, tpr)\n",
        "  print('AUC:', roc_auc)\n",
        "\n",
        "  # Визуализация ROC-кривой\n",
        "  import matplotlib.pyplot as plt\n",
        "  plt.plot(fpr, tpr, color='darkorange', label='ROC curve (area = %0.2f)' % roc_auc)\n",
        "  plt.plot([0, 1], [0, 1], color='navy', linestyle='--')\n",
        "  plt.xlim([0.0, 1.0])\n",
        "  plt.ylim([0.0, 1.05])\n",
        "  plt.xlabel('False Positive Rate')\n",
        "  plt.ylabel('True Positive Rate')\n",
        "  plt.title('Receiver operating characteristic')\n",
        "  plt.legend(loc=\"lower right\")\n",
        "  plt.show()"
      ],
      "metadata": {
        "id": "kbjrvBQi3MyI"
      },
      "execution_count": 281,
      "outputs": []
    },
    {
      "cell_type": "code",
      "source": [
        "auc_roc = roc_auc_curve(y_val1, y_pred)\n",
        "#73844\n",
        "print(auc_roc)"
      ],
      "metadata": {
        "colab": {
          "base_uri": "https://localhost:8080/",
          "height": 508
        },
        "id": "RNXOKy3uyVGW",
        "outputId": "04e6bd58-f271-4f8f-c12a-1b413a61d844"
      },
      "execution_count": 282,
      "outputs": [
        {
          "output_type": "stream",
          "name": "stdout",
          "text": [
            "AUC: 0.7778624486351636\n"
          ]
        },
        {
          "output_type": "display_data",
          "data": {
            "text/plain": [
              "<Figure size 640x480 with 1 Axes>"
            ],
            "image/png": "[encoded data removed]"
          },
          "metadata": {}
        },
        {
          "output_type": "stream",
          "name": "stdout",
          "text": [
            "None\n"
          ]
        }
      ]
    },
    {
      "cell_type": "code",
      "source": [
        "y_onTest=model.predict(X_test)\n",
        "y_onTest_df=pd.DataFrame(y_onTest)\n",
        "y_onTest_df.to_csv('predictions7.csv', index=False)"
      ],
      "metadata": {
        "id": "R8WVwBq34OAw"
      },
      "execution_count": 284,
      "outputs": []
    }
  ]
}