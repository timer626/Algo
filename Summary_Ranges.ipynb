{
  "nbformat": 4,
  "nbformat_minor": 0,
  "metadata": {
    "colab": {
      "provenance": [],
      "authorship_tag": "ABX9TyMJCqs4QA0dafLMv893CgNL"
    },
    "kernelspec": {
      "name": "python3",
      "display_name": "Python 3"
    },
    "language_info": {
      "name": "python"
    }
  },
  "cells": [
    {
      "cell_type": "markdown",
      "source": [
        "You are given a sorted unique integer array nums.\n",
        "\n",
        "A range [a,b] is the set of all integers from a to b (inclusive).\n",
        "\n",
        "Return the smallest sorted list of ranges that cover all the numbers in the array exactly. That is, each element of nums is covered by exactly one of the ranges, and there is no integer x such that x is in one of the ranges but not in nums.\n",
        "\n",
        "Each range [a,b] in the list should be output as:\n",
        "\"a->b\" if a != b\n",
        "\"a\" if a == b\n",
        "\n",
        "Example 1:\n",
        "\n",
        "Input: nums = [0,1,2,4,5,7]\n",
        "Output: [\"0->2\",\"4->5\",\"7\"]\n",
        "\n",
        "Explanation: The ranges are:\n",
        "[0,2] --> \"0->2\"\n",
        "[4,5] --> \"4->5\"\n",
        "[7,7] --> \"7\"\n",
        "\n",
        "Example 2:\n",
        "\n",
        "Input: nums = [0,2,3,4,6,8,9]\n",
        "Output: [\"0\",\"2->4\",\"6\",\"8->9\"]\n",
        "\n",
        "Explanation: The ranges are:\n",
        "[0,0] --> \"0\"\n",
        "[2,4] --> \"2->4\"\n",
        "[6,6] --> \"6\"\n",
        "[8,9] --> \"8->9\"\n",
        "\n",
        "\n",
        "Constraints:\n",
        "\n",
        "0 <= nums.length <= 20\n",
        "\n",
        "-231 <= nums[i] <= 231 - 1\n",
        "\n",
        "All the values of nums are unique.\n",
        "\n",
        "nums is sorted in ascending order.\n"
      ],
      "metadata": {
        "id": "2zEZC6K8sBi-"
      }
    },
    {
      "cell_type": "markdown",
      "source": [
        "Решение.\n",
        "\n",
        "Мы идем по отсортированному списку до конца.\n",
        "Начинаем формировать отрезки, начиная с самого первого элемента. Если вышло так, что следующий элемент не равен (текущий + 1), то записываем элемент как одиночный, иначе идем по списку дальше до тех пор пока элемент не равен (текущий+1), тогда записываем отрезок, по которому мы прошлись.\n"
      ],
      "metadata": {
        "id": "2jJmun5bsx3e"
      }
    },
    {
      "cell_type": "code",
      "execution_count": 2,
      "metadata": {
        "id": "iEa7VTopru2_"
      },
      "outputs": [],
      "source": [
        "class Solution:\n",
        "    def summaryRanges(self, nums: list[int]) -> list[str]:\n",
        "        if nums == []:\n",
        "            return []\n",
        "\n",
        "        output = []\n",
        "        i=0\n",
        "        while i< len(nums):\n",
        "            start = nums[i]\n",
        "            while i+1 < len(nums) and nums[i] + 1 == nums[i+1]:\n",
        "                i+=1\n",
        "\n",
        "            if start == nums[i]:\n",
        "                output.append(f\"{start}\")\n",
        "            else:\n",
        "                output.append(f\"{start}->{nums[i]}\")\n",
        "\n",
        "            i+=1\n",
        "        return output"
      ]
    }
  ]
}