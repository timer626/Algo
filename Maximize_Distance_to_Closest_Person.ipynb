{
  "nbformat": 4,
  "nbformat_minor": 0,
  "metadata": {
    "colab": {
      "provenance": [],
      "authorship_tag": "ABX9TyN4RU8Ydjjt2iGpPYwbf7lk"
    },
    "kernelspec": {
      "name": "python3",
      "display_name": "Python 3"
    },
    "language_info": {
      "name": "python"
    }
  },
  "cells": [
    {
      "cell_type": "markdown",
      "source": [
        "Решение.\n",
        "\n",
        "Идем по списку слева направо, если мы встретили непустое место впервые, то расстояние на которые мы можем сесть это сколько кресел мы пропустили, иначе садимся по середине(если число кресел четное, то садимся на любое кресло, максимальное расстояние не изменится, оно будет равно меньшему из тех, на котором сейчас находимся). и если наткнулись на занятое кресло, то его запоминаем и снова ищем занятое кресло. Выбираем максимальное расстояние(либо новое поссчитанное, либо оставляем старое).Так может получиться, что у нас занято только последнее обработаем и этот случай.\n",
        "\n"
      ],
      "metadata": {
        "id": "eobwG7f4YvF0"
      }
    },
    {
      "cell_type": "code",
      "execution_count": 34,
      "metadata": {
        "id": "4Jr6cHAk1eeN"
      },
      "outputs": [],
      "source": [
        "class Solution:\n",
        "    def maxDistToClosest(self, seats: List[int]) -> int:\n",
        "        res, prev= 0, -1\n",
        "        for i, n in enumerate(seats):\n",
        "            if n:\n",
        "                dist = i if prev == -1 else (i - prev)//2\n",
        "                res = max(res, dist)\n",
        "                prev = i\n",
        "\n",
        "        if not seats[len(seats)-1]:\n",
        "            res = max(res, len(seats) - prev-1)\n",
        "        return res"
      ]
    }
  ]
}